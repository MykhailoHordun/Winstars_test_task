{
 "cells": [
  {
   "cell_type": "markdown",
   "metadata": {},
   "source": [
    "### Importing methods"
   ]
  },
  {
   "cell_type": "code",
   "execution_count": 1,
   "metadata": {},
   "outputs": [],
   "source": [
    "import warnings\n",
    "warnings.filterwarnings(\"ignore\")\n",
    "\n",
    "from utils import load_ner_model, load_image_classifier, extract_animals_from_text, predict_image_class  "
   ]
  },
  {
   "cell_type": "markdown",
   "metadata": {},
   "source": [
    "#### Load both models"
   ]
  },
  {
   "cell_type": "code",
   "execution_count": 2,
   "metadata": {},
   "outputs": [],
   "source": [
    "ner_model_dir=\"./ner_model\"\n",
    "img_model_path=\"./animal_classification_model.h5\""
   ]
  },
  {
   "cell_type": "code",
   "execution_count": 3,
   "metadata": {},
   "outputs": [
    {
     "name": "stderr",
     "output_type": "stream",
     "text": [
      "Device set to use cpu\n",
      "WARNING:absl:Compiled the loaded model, but the compiled metrics have yet to be built. `model.compile_metrics` will be empty until you train or evaluate the model.\n"
     ]
    }
   ],
   "source": [
    "nlp = load_ner_model(ner_model_dir)\n",
    "img_model = load_image_classifier(img_model_path)\n"
   ]
  },
  {
   "cell_type": "code",
   "execution_count": 4,
   "metadata": {},
   "outputs": [],
   "source": [
    "def running_pipeline(text, image_path):\n",
    "    \"\"\"\n",
    "    Function to run pipeline\n",
    "    \"\"\"\n",
    "    # Extraction of animal names from user prompts\n",
    "    extracted_animals = extract_animals_from_text(nlp, text)\n",
    "    if extracted_animals is None:\n",
    "        print(False)\n",
    "\n",
    "    # Prediction of image class\n",
    "    encoder_path=\"./label_encoder.pkl\"\n",
    "    predicted_animal = predict_image_class(img_model, image_path, encoder_path)\n",
    "        \n",
    "    # Comparison of results\n",
    "    flag = False\n",
    "    for animal in extracted_animals:\n",
    "        if animal == predicted_animal:\n",
    "            flag = True\n",
    "            print(True)\n",
    "    if not flag:\n",
    "        print(False)"
   ]
  },
  {
   "cell_type": "markdown",
   "metadata": {},
   "source": [
    "### Testing pipeline\n",
    "*In these examples we use photos that do not belong to the training dataset*\n",
    "\n",
    "Let's start with a photo of a cat and the question \"are there any cats or dogs?\":\n",
    "\n",
    "<img src=\"./images/cat.jpg\" height=\"50%\" width=\"50%\" style=\"display: block; margin: auto;\">"
   ]
  },
  {
   "cell_type": "code",
   "execution_count": 17,
   "metadata": {},
   "outputs": [],
   "source": [
    "text_cat_dog = \"are there any cats or dogs?\"\n",
    "image_path_cat = \"./images/cat.jpg\""
   ]
  },
  {
   "cell_type": "code",
   "execution_count": null,
   "metadata": {},
   "outputs": [
    {
     "name": "stdout",
     "output_type": "stream",
     "text": [
      "True\n"
     ]
    }
   ],
   "source": [
    "running_pipeline(text_cat_dog, image_path_cat)"
   ]
  },
  {
   "cell_type": "markdown",
   "metadata": {},
   "source": [
    "The pipeline works as expected.\n",
    "\n",
    "If we change the input message to \"are there any cars or dogs?\" and keep the same photo of cat:"
   ]
  },
  {
   "cell_type": "code",
   "execution_count": null,
   "metadata": {},
   "outputs": [],
   "source": [
    "text_dog = \"are there any cars or dogs?\""
   ]
  },
  {
   "cell_type": "code",
   "execution_count": null,
   "metadata": {},
   "outputs": [
    {
     "name": "stdout",
     "output_type": "stream",
     "text": [
      "False\n"
     ]
    }
   ],
   "source": [
    "running_pipeline(text_dog, image_path_cat)"
   ]
  },
  {
   "cell_type": "markdown",
   "metadata": {},
   "source": [
    "The pipeline returns <code>False</code> as there are no dogs in the image.\n",
    "\n",
    "So, let's try the same text but now use a photo of a dog:\n",
    "\n",
    "<img src=\"./images/dog.jpg\" height=\"45%\" width=\"50%\" style=\"display: block; margin: auto;\">"
   ]
  },
  {
   "cell_type": "code",
   "execution_count": null,
   "metadata": {},
   "outputs": [],
   "source": [
    "image_path_dog = \"./images/dog.jpg\""
   ]
  },
  {
   "cell_type": "code",
   "execution_count": null,
   "metadata": {},
   "outputs": [
    {
     "name": "stdout",
     "output_type": "stream",
     "text": [
      "True\n"
     ]
    }
   ],
   "source": [
    "running_pipeline(text_dog, image_path_dog)"
   ]
  },
  {
   "cell_type": "markdown",
   "metadata": {},
   "source": [
    "The pipeline again returns <code>True</code> as it now gets a photo with a dog in it.\n",
    "\n",
    "Now, let's try another text format and a new image:\n",
    "\n",
    "<img src=\"./images/cow.jpg\" height=\"45%\" width=\"50%\" style=\"display: block; margin: auto;\">"
   ]
  },
  {
   "cell_type": "code",
   "execution_count": null,
   "metadata": {},
   "outputs": [],
   "source": [
    "text_cow = \"There is a cow in the picture.\"\n",
    "image_path_cow = \"./images/cow.jpg\""
   ]
  },
  {
   "cell_type": "code",
   "execution_count": 12,
   "metadata": {},
   "outputs": [
    {
     "name": "stdout",
     "output_type": "stream",
     "text": [
      "True\n"
     ]
    }
   ],
   "source": [
    "running_pipeline(text_cow, image_path_cow)"
   ]
  },
  {
   "cell_type": "markdown",
   "metadata": {},
   "source": [
    "And if we use a random image without animals:\n",
    "\n",
    "<img src=\"./images/random_image.jpg\" height=\"45%\" width=\"50%\" style=\"display: block; margin: auto;\">"
   ]
  },
  {
   "cell_type": "code",
   "execution_count": 15,
   "metadata": {},
   "outputs": [],
   "source": [
    "text_1 = \"There is a tiger or cat in the picture.\"\n",
    "picture = \"./images/random_image.jpg\""
   ]
  },
  {
   "cell_type": "code",
   "execution_count": 16,
   "metadata": {},
   "outputs": [
    {
     "name": "stdout",
     "output_type": "stream",
     "text": [
      "False\n"
     ]
    }
   ],
   "source": [
    "running_pipeline(text_1, picture)"
   ]
  },
  {
   "cell_type": "markdown",
   "metadata": {},
   "source": [
    "As we can see from the examples above, the pipeline works well and returns the correct answers. "
   ]
  }
 ],
 "metadata": {
  "kernelspec": {
   "display_name": ".venv",
   "language": "python",
   "name": "python3"
  },
  "language_info": {
   "codemirror_mode": {
    "name": "ipython",
    "version": 3
   },
   "file_extension": ".py",
   "mimetype": "text/x-python",
   "name": "python",
   "nbconvert_exporter": "python",
   "pygments_lexer": "ipython3",
   "version": "3.12.3"
  }
 },
 "nbformat": 4,
 "nbformat_minor": 2
}
